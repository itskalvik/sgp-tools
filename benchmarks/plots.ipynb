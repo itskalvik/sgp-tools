{
 "cells": [
  {
   "cell_type": "code",
   "execution_count": null,
   "metadata": {},
   "outputs": [],
   "source": [
    "import json\n",
    "import numpy as np\n",
    "import matplotlib.pyplot as plt\n",
    "from collections import defaultdict"
   ]
  },
  {
   "cell_type": "code",
   "execution_count": null,
   "metadata": {},
   "outputs": [],
   "source": [
    "filename = f'../datasets/results/bathymetry_4R_2S.json'\n",
    "save_filename = filename[:-5] + '-{}.pdf'\n",
    "results = json.load(open(filename, 'r'))\n",
    "\n",
    "rmse = defaultdict(list)\n",
    "rmse_std = defaultdict(list)\n",
    "\n",
    "param_time = defaultdict(list)\n",
    "param_time_std = defaultdict(list)\n",
    "\n",
    "ipp_time = defaultdict(list)\n",
    "ipp_time_std = defaultdict(list)\n",
    "\n",
    "for num_sensors in results.keys():\n",
    "    for method in  results[num_sensors].keys():\n",
    "        for metric in results[num_sensors][method].keys():\n",
    "            if metric=='RMSE':\n",
    "                rmse[method].append(np.mean(results[num_sensors][method][metric]))\n",
    "                rmse_std[method].append(np.std(results[num_sensors][method][metric]))\n",
    "            elif metric=='ParamTime':\n",
    "                param_time[method].append(np.mean(results[num_sensors][method][metric]))\n",
    "                param_time_std[method].append(np.std(results[num_sensors][method][metric]))\n",
    "            elif metric=='IPPTime':\n",
    "                ipp_time[method].append(np.mean(results[num_sensors][method][metric]))\n",
    "                ipp_time_std[method].append(np.std(results[num_sensors][method][metric]))\n",
    "\n",
    "plt.figure()\n",
    "for key in rmse.keys():\n",
    "    plt.plot(rmse[key], label=key)\n",
    "    plt.fill_between(np.arange(len(rmse[key])),\n",
    "                     np.array(rmse[key])+rmse_std[key], \n",
    "                     np.array(rmse[key])-rmse_std[key], \n",
    "                     alpha=0.2)\n",
    "plt.legend()\n",
    "plt.title(\"RMSE\")\n",
    "plt.show()\n",
    "\n",
    "plt.figure()\n",
    "for key in ipp_time.keys():\n",
    "    plt.plot(ipp_time[key], label=key)\n",
    "plt.legend()\n",
    "plt.title(\"IPP Time\")\n",
    "plt.show()\n",
    "\n",
    "plt.figure()\n",
    "for key in param_time.keys():\n",
    "    plt.plot(param_time[key], label=key)\n",
    "plt.legend()\n",
    "plt.title(\"Param Time\")\n",
    "plt.show()"
   ]
  }
 ],
 "metadata": {
  "kernelspec": {
   "display_name": "Python 3",
   "language": "python",
   "name": "python3"
  },
  "language_info": {
   "codemirror_mode": {
    "name": "ipython",
    "version": 3
   },
   "file_extension": ".py",
   "mimetype": "text/x-python",
   "name": "python",
   "nbconvert_exporter": "python",
   "pygments_lexer": "ipython3",
   "version": "3.10.12"
  },
  "orig_nbformat": 4,
  "vscode": {
   "interpreter": {
    "hash": "916dbcbb3f70747c44a77c7bcd40155683ae19c65e1c03b4aa3499c5328201f1"
   }
  }
 },
 "nbformat": 4,
 "nbformat_minor": 2
}
