{
 "cells": [
  {
   "cell_type": "code",
   "execution_count": null,
   "metadata": {},
   "outputs": [],
   "source": [
    "import os\n",
    "import json\n",
    "import numpy as np\n",
    "from collections import defaultdict\n",
    "\n",
    "import matplotlib.pyplot as plt\n",
    "plt.rcParams['font.size'] = 12\n",
    "plt.rcParams[\"font.family\"] = \"Times New Roman\"\n",
    "\n",
    "''' Install fonts on Ubuntu:\n",
    "sudo apt install msttcorefonts -qq\n",
    "rm ~/.cache/matplotlib -rf           # remove cache\n",
    "'''"
   ]
  },
  {
   "cell_type": "code",
   "execution_count": null,
   "metadata": {},
   "outputs": [],
   "source": [
    "def extract_plot_data(results):\n",
    "    plot_data = defaultdict(lambda: defaultdict(lambda: defaultdict(list)))\n",
    "    xrange = np.array(list(results.keys())).astype(int)\n",
    "    for num_sensors in results.keys():\n",
    "        for method in  results[num_sensors].keys():\n",
    "            for metric in results[num_sensors][method].keys():\n",
    "                data = np.array(results[num_sensors][method][metric])\n",
    "                if 'Time' in metric and 'Adaptive' in method:\n",
    "                    data /= int(num_sensors)\n",
    "                plot_data[metric][method]['mean'].append(np.mean(data))\n",
    "                plot_data[metric][method]['std'].append(np.std(data))\n",
    "    return xrange, plot_data\n",
    "\n",
    "def plot_metric(xrange, data, xlabel, ylabel,\n",
    "                colors=None, methods=None, \n",
    "                labels=None, fname=None):\n",
    "    if methods is None:\n",
    "        methods = list(data.keys())\n",
    "    if labels is None:\n",
    "        labels = methods\n",
    "    if colors is None:\n",
    "        colors = [None]*len(methods)\n",
    "\n",
    "    plt.figure(figsize=(10, 5))\n",
    "    for i, key in enumerate(methods):\n",
    "        xrange_ = xrange[:len(data[key]['mean'])]\n",
    "        label = labels[i]\n",
    "\n",
    "        plt.plot(xrange_, data[key]['mean'], label=label)\n",
    "        plt.fill_between(xrange_,\n",
    "                         np.array(data[key]['mean']) + np.array(data[key]['std']),\n",
    "                         np.array(data[key]['mean']) - np.array(data[key]['std']),\n",
    "                         alpha=0.2)\n",
    "    plt.legend(bbox_to_anchor=(1.05, 1), loc='upper left', borderaxespad=0.)\n",
    "    plt.xlabel(xlabel)\n",
    "    plt.ylabel(ylabel)\n",
    "    plt.tight_layout()\n",
    "    if fname is not None:\n",
    "        plt.savefig(f'{fname}', bbox_inches='tight', dpi=500)\n",
    "    plt.show()"
   ]
  },
  {
   "cell_type": "code",
   "execution_count": null,
   "metadata": {},
   "outputs": [],
   "source": [
    "filename = f'IPP-mississippi_1R_2S.json'\n",
    "print(f'Loading results from {filename}')\n",
    "save_filename = filename[:-5] + '-{}.pdf'\n",
    "save_filename = os.path.join('plots', save_filename)\n",
    "if not os.path.exists('plots'):\n",
    "    os.makedirs('plots')\n",
    "results = json.load(open(filename, 'r'))\n",
    "xrange, plot_data = extract_plot_data(results)\n",
    "print(f'Done!')"
   ]
  },
  {
   "cell_type": "code",
   "execution_count": null,
   "metadata": {},
   "outputs": [],
   "source": [
    "methods = plot_data['RMSE'].keys()\n",
    "#methods = [m for m in methods if \"CMA\" not in m]\n",
    "methods = [m for m in methods if \"Diff\" not in m]\n",
    "methods = [m for m in methods if \"Greedy\" not in m]\n",
    "    \n",
    "plot_metric(xrange, plot_data['IPPTime'], \"Number of Waypoints\", \"Runtime (s)\", methods=methods)\n",
    "plot_metric(xrange, plot_data['NLPD'], \"Number of Waypoints\", \"SMSE\", methods=methods)"
   ]
  }
 ],
 "metadata": {
  "kernelspec": {
   "display_name": "Python 3",
   "language": "python",
   "name": "python3"
  },
  "language_info": {
   "codemirror_mode": {
    "name": "ipython",
    "version": 3
   },
   "file_extension": ".py",
   "mimetype": "text/x-python",
   "name": "python",
   "nbconvert_exporter": "python",
   "pygments_lexer": "ipython3",
   "version": "3.10.12"
  },
  "orig_nbformat": 4,
  "vscode": {
   "interpreter": {
    "hash": "916dbcbb3f70747c44a77c7bcd40155683ae19c65e1c03b4aa3499c5328201f1"
   }
  }
 },
 "nbformat": 4,
 "nbformat_minor": 2
}
